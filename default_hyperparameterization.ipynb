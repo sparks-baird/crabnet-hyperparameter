{
 "cells": [
  {
   "cell_type": "markdown",
   "metadata": {},
   "source": [
    "# Baseline Comparison for Ax+CrabNet v1.2.1 Using Default CrabNet Hyperparameters"
   ]
  },
  {
   "cell_type": "markdown",
   "metadata": {},
   "source": [
    "###### Created January 8, 2022"
   ]
  },
  {
   "cell_type": "markdown",
   "metadata": {},
   "source": [
    "# Description"
   ]
  },
  {
   "cell_type": "markdown",
   "metadata": {},
   "source": [
    "This is meant to serve as a baseline comparison for [Ax+CrabNet v1.2.1](https://matbench.materialsproject.org/Full%20Benchmark%20Data/matbench_v0.1_Ax_CrabNet_v1.2.1/). Please see [that\n",
    "submission's notebook](https://github.com/materialsproject/matbench/blob/main/benchmarks/matbench_v0.1_Ax_CrabNet_v1.2.1/notebook.ipynb) for details."
   ]
  },
  {
   "cell_type": "markdown",
   "metadata": {},
   "source": [
    "# Benchmark name\n",
    "Matbench v0.1"
   ]
  },
  {
   "cell_type": "markdown",
   "metadata": {},
   "source": [
    "# Package versions\n",
    "- crabnet==1.2.1\n",
    "- scikit_learn==1.0.2\n",
    "- matbench==0.5"
   ]
  },
  {
   "cell_type": "markdown",
   "metadata": {},
   "source": [
    "## Imports"
   ]
  },
  {
   "cell_type": "code",
   "execution_count": 1,
   "metadata": {},
   "outputs": [],
   "source": [
    "from os.path import join\n",
    "from pathlib import Path\n",
    "\n",
    "import numpy as np\n",
    "import pandas as pd\n",
    "\n",
    "import gc\n",
    "import torch\n",
    "\n",
    "import crabnet\n",
    "from crabnet.train_crabnet import get_model\n",
    "from sklearn.metrics import mean_absolute_error\n",
    "\n",
    "from matbench.bench import MatbenchBenchmark"
   ]
  },
  {
   "cell_type": "markdown",
   "metadata": {},
   "source": [
    "## Setup"
   ]
  },
  {
   "cell_type": "markdown",
   "metadata": {},
   "source": [
    "`dummy` lets you swap between a fast run and a more comprehensive run. The more comprehensive run was used for this matbench submission."
   ]
  },
  {
   "cell_type": "code",
   "execution_count": 2,
   "metadata": {},
   "outputs": [],
   "source": [
    "dummy = False"
   ]
  },
  {
   "cell_type": "markdown",
   "metadata": {},
   "source": [
    "Specify directories where you want to save things and make sure they exist."
   ]
  },
  {
   "cell_type": "code",
   "execution_count": 3,
   "metadata": {},
   "outputs": [],
   "source": [
    "# create dir https://stackoverflow.com/a/273227/13697228\n",
    "experiment_dir = join(\"experiments\", \"default\")\n",
    "figure_dir = join(\"figures\", \"default\")\n",
    "result_dir = join(\"results\", \"default\")\n",
    "Path(experiment_dir).mkdir(parents=True, exist_ok=True)\n",
    "Path(figure_dir).mkdir(parents=True, exist_ok=True)\n",
    "Path(result_dir).mkdir(parents=True, exist_ok=True)"
   ]
  },
  {
   "cell_type": "markdown",
   "metadata": {},
   "source": [
    "## Experimental Bandgap MatBench task"
   ]
  },
  {
   "cell_type": "markdown",
   "metadata": {},
   "source": [
    "Please ignore that train and val MAE output are identical, val MAE is just train MAE\n",
    "since there is no validation set specified."
   ]
  },
  {
   "cell_type": "code",
   "execution_count": 4,
   "metadata": {},
   "outputs": [
    {
     "name": "stdout",
     "output_type": "stream",
     "text": [
      "2022-02-05 09:36:02 INFO     Initialized benchmark 'matbench_v0.1' with 1 tasks: \n",
      "['matbench_expt_gap']\n",
      "2022-02-05 09:36:02 INFO     Loading dataset 'matbench_expt_gap'...\n",
      "2022-02-05 09:36:03 INFO     Dataset 'matbench_expt_gap loaded.\n",
      "\n",
      "Model architecture: out_dims, d_model, N, heads\n",
      "3, 512, 3, 4\n",
      "Running on compute device: cuda:0\n",
      "Model size: 11987206 parameters\n",
      "\n"
     ]
    },
    {
     "name": "stderr",
     "output_type": "stream",
     "text": [
      "Generating EDM: 100%|██████████| 3683/3683 [00:00<00:00, 123102.35formulae/s]"
     ]
    },
    {
     "name": "stdout",
     "output_type": "stream",
     "text": [
      "loading data with up to 4 elements in the formula\n"
     ]
    },
    {
     "name": "stderr",
     "output_type": "stream",
     "text": [
      "\n"
     ]
    },
    {
     "name": "stdout",
     "output_type": "stream",
     "text": [
      "training with batchsize 256 (2**8.000)\n",
      "stepping every 150 training passes, cycling lr every 10 epochs\n",
      "checkin at 20 epochs to match lr scheduler\n",
      "Epoch: 0/40 --- train mae: 0.989 val mae: 0.989\n",
      "Epoch: 19/40 --- train mae: 0.359 val mae: 0.359\n",
      "Epoch: 39/40 --- train mae: 0.203 val mae: 0.203\n",
      "Saving network (expt_gap) to models/trained_models/expt_gap.pth\n"
     ]
    },
    {
     "name": "stderr",
     "output_type": "stream",
     "text": [
      "Generating EDM: 100%|██████████| 921/921 [00:00<00:00, 184715.44formulae/s]"
     ]
    },
    {
     "name": "stdout",
     "output_type": "stream",
     "text": [
      "loading data with up to 4 elements in the formula\n",
      "2022-02-05 09:36:44 INFO     Recorded fold matbench_expt_gap-0 successfully.\n"
     ]
    },
    {
     "name": "stderr",
     "output_type": "stream",
     "text": [
      "\n"
     ]
    },
    {
     "name": "stdout",
     "output_type": "stream",
     "text": [
      "\n",
      "Model architecture: out_dims, d_model, N, heads\n",
      "3, 512, 3, 4\n",
      "Running on compute device: cuda:0\n",
      "Model size: 11987206 parameters\n",
      "\n"
     ]
    },
    {
     "name": "stderr",
     "output_type": "stream",
     "text": [
      "Generating EDM: 100%|██████████| 3683/3683 [00:00<00:00, 102578.62formulae/s]\n"
     ]
    },
    {
     "name": "stdout",
     "output_type": "stream",
     "text": [
      "loading data with up to 4 elements in the formula\n",
      "training with batchsize 256 (2**8.000)\n",
      "stepping every 150 training passes, cycling lr every 10 epochs\n",
      "checkin at 20 epochs to match lr scheduler\n",
      "Epoch: 0/40 --- train mae: 0.98 val mae: 0.98\n",
      "Epoch: 19/40 --- train mae: 0.348 val mae: 0.348\n",
      "Epoch: 39/40 --- train mae: 0.212 val mae: 0.212\n",
      "Saving network (expt_gap) to models/trained_models/expt_gap.pth\n"
     ]
    },
    {
     "name": "stderr",
     "output_type": "stream",
     "text": [
      "Generating EDM: 100%|██████████| 921/921 [00:00<00:00, 184671.29formulae/s]"
     ]
    },
    {
     "name": "stdout",
     "output_type": "stream",
     "text": [
      "loading data with up to 4 elements in the formula\n",
      "2022-02-05 09:37:23 INFO     Recorded fold matbench_expt_gap-1 successfully.\n"
     ]
    },
    {
     "name": "stderr",
     "output_type": "stream",
     "text": [
      "\n"
     ]
    },
    {
     "name": "stdout",
     "output_type": "stream",
     "text": [
      "\n",
      "Model architecture: out_dims, d_model, N, heads\n",
      "3, 512, 3, 4\n",
      "Running on compute device: cuda:0\n",
      "Model size: 11987206 parameters\n",
      "\n"
     ]
    },
    {
     "name": "stderr",
     "output_type": "stream",
     "text": [
      "Generating EDM: 100%|██████████| 3683/3683 [00:00<00:00, 102577.94formulae/s]\n"
     ]
    },
    {
     "name": "stdout",
     "output_type": "stream",
     "text": [
      "loading data with up to 4 elements in the formula\n",
      "training with batchsize 256 (2**8.000)\n",
      "stepping every 150 training passes, cycling lr every 10 epochs\n",
      "checkin at 20 epochs to match lr scheduler\n",
      "Epoch: 0/40 --- train mae: 1.01 val mae: 1.01\n",
      "Epoch: 19/40 --- train mae: 0.353 val mae: 0.353\n",
      "Epoch: 39/40 --- train mae: 0.23 val mae: 0.23\n",
      "Saving network (expt_gap) to models/trained_models/expt_gap.pth\n"
     ]
    },
    {
     "name": "stderr",
     "output_type": "stream",
     "text": [
      "Generating EDM: 100%|██████████| 921/921 [00:00<00:00, 184759.61formulae/s]"
     ]
    },
    {
     "name": "stdout",
     "output_type": "stream",
     "text": [
      "loading data with up to 4 elements in the formula\n",
      "2022-02-05 09:38:03 INFO     Recorded fold matbench_expt_gap-2 successfully.\n"
     ]
    },
    {
     "name": "stderr",
     "output_type": "stream",
     "text": [
      "\n"
     ]
    },
    {
     "name": "stdout",
     "output_type": "stream",
     "text": [
      "\n",
      "Model architecture: out_dims, d_model, N, heads\n",
      "3, 512, 3, 4\n",
      "Running on compute device: cuda:0\n",
      "Model size: 11987206 parameters\n",
      "\n"
     ]
    },
    {
     "name": "stderr",
     "output_type": "stream",
     "text": [
      "Generating EDM: 100%|██████████| 3683/3683 [00:00<00:00, 136771.19formulae/s]\n"
     ]
    },
    {
     "name": "stdout",
     "output_type": "stream",
     "text": [
      "loading data with up to 4 elements in the formula\n",
      "training with batchsize 256 (2**8.000)\n",
      "stepping every 150 training passes, cycling lr every 10 epochs\n",
      "checkin at 20 epochs to match lr scheduler\n",
      "Epoch: 0/40 --- train mae: 1.03 val mae: 1.03\n",
      "Epoch: 19/40 --- train mae: 0.344 val mae: 0.344\n",
      "Epoch: 39/40 --- train mae: 0.215 val mae: 0.215\n",
      "Saving network (expt_gap) to models/trained_models/expt_gap.pth\n"
     ]
    },
    {
     "name": "stderr",
     "output_type": "stream",
     "text": [
      "Generating EDM: 100%|██████████| 921/921 [00:00<00:00, 153914.81formulae/s]"
     ]
    },
    {
     "name": "stdout",
     "output_type": "stream",
     "text": [
      "loading data with up to 4 elements in the formula\n",
      "2022-02-05 09:38:44 INFO     Recorded fold matbench_expt_gap-3 successfully.\n"
     ]
    },
    {
     "name": "stderr",
     "output_type": "stream",
     "text": [
      "\n"
     ]
    },
    {
     "name": "stdout",
     "output_type": "stream",
     "text": [
      "\n",
      "Model architecture: out_dims, d_model, N, heads\n",
      "3, 512, 3, 4\n",
      "Running on compute device: cuda:0\n",
      "Model size: 11987206 parameters\n",
      "\n"
     ]
    },
    {
     "name": "stderr",
     "output_type": "stream",
     "text": [
      "Generating EDM: 100%|██████████| 3684/3684 [00:00<00:00, 131921.35formulae/s]\n"
     ]
    },
    {
     "name": "stdout",
     "output_type": "stream",
     "text": [
      "loading data with up to 4 elements in the formula\n",
      "training with batchsize 256 (2**8.000)\n",
      "stepping every 150 training passes, cycling lr every 10 epochs\n",
      "checkin at 20 epochs to match lr scheduler\n",
      "Epoch: 0/40 --- train mae: 1.04 val mae: 1.04\n",
      "Epoch: 19/40 --- train mae: 0.36 val mae: 0.36\n",
      "Epoch: 39/40 --- train mae: 0.215 val mae: 0.215\n",
      "Saving network (expt_gap) to models/trained_models/expt_gap.pth\n"
     ]
    },
    {
     "name": "stderr",
     "output_type": "stream",
     "text": [
      "Generating EDM: 100%|██████████| 920/920 [00:00<00:00, 131819.75formulae/s]"
     ]
    },
    {
     "name": "stdout",
     "output_type": "stream",
     "text": [
      "loading data with up to 4 elements in the formula\n",
      "2022-02-05 09:39:30 INFO     Recorded fold matbench_expt_gap-4 successfully.\n"
     ]
    },
    {
     "name": "stderr",
     "output_type": "stream",
     "text": [
      "\n"
     ]
    }
   ],
   "source": [
    "mb = MatbenchBenchmark(autoload=False, subset=[\"matbench_expt_gap\"])\n",
    "\n",
    "default_maes = []\n",
    "task = list(mb.tasks)[0]\n",
    "task.load()\n",
    "for i, fold in enumerate(task.folds):\n",
    "    train_inputs, train_outputs = task.get_train_and_val_data(fold)\n",
    "\n",
    "    train_val_df = pd.DataFrame(\n",
    "        {\"formula\": train_inputs.values, \"target\": train_outputs.values}\n",
    "    )\n",
    "    if dummy:\n",
    "        train_val_df = train_val_df[:100]\n",
    "\n",
    "    test_inputs, test_outputs = task.get_test_data(fold, include_target=True)\n",
    "\n",
    "    test_df = pd.DataFrame({\"formula\": test_inputs, \"target\": test_outputs})\n",
    "\n",
    "    default_params = dict(\n",
    "        fudge=0.02,\n",
    "        d_model=512,\n",
    "        out_dims=3,\n",
    "        N=3,\n",
    "        heads=4,\n",
    "        out_hidden=[1024, 512, 256, 128],\n",
    "        emb_scaler=1.0,\n",
    "        pos_scaler=1.0,\n",
    "        pos_scaler_log=1.0,\n",
    "        bias=False,\n",
    "        dim_feedforward=2048,\n",
    "        dropout=0.1,\n",
    "        elem_prop=\"mat2vec\",\n",
    "        pe_resolution=5000,\n",
    "        ple_resolution=5000,\n",
    "        epochs=40,\n",
    "        epochs_step=10,\n",
    "        criterion=None,\n",
    "        lr=1e-3,\n",
    "        betas=(0.9, 0.999),\n",
    "        eps=1e-6,\n",
    "        weight_decay=0,\n",
    "        adam=False,\n",
    "        min_trust=None,\n",
    "        alpha=0.5,\n",
    "        k=6,\n",
    "        base_lr=1e-4,\n",
    "        max_lr=6e-3,\n",
    "    )\n",
    "\n",
    "    default_model = get_model(\n",
    "        mat_prop=\"expt_gap\",\n",
    "        train_df=train_val_df,\n",
    "        learningcurve=False,\n",
    "        force_cpu=False,\n",
    "        **default_params,\n",
    "    )\n",
    "\n",
    "    default_true, default_pred, default_formulas, default_sigma = default_model.predict(\n",
    "        test_df\n",
    "    )\n",
    "\n",
    "    default_mae = mean_absolute_error(default_true, default_pred)\n",
    "    default_maes.append(default_mae)\n",
    "\n",
    "    task.record(fold, default_pred, params=default_params)\n",
    "\n",
    "    # deallocate CUDA memory https://discuss.pytorch.org/t/how-can-we-release-gpu-memory-cache/14530/28\n",
    "    del default_model\n",
    "    gc.collect()\n",
    "    torch.cuda.empty_cache()"
   ]
  },
  {
   "cell_type": "markdown",
   "metadata": {},
   "source": [
    "## Export matbench file"
   ]
  },
  {
   "cell_type": "code",
   "execution_count": 5,
   "metadata": {},
   "outputs": [
    {
     "name": "stdout",
     "output_type": "stream",
     "text": [
      "2022-02-05 09:39:31 INFO     User metadata added successfully!\n",
      "2022-02-05 09:39:31 INFO     Successfully wrote MatbenchBenchmark to file 'results\\default\\expt_gap_benchmark.json.gz'.\n",
      "[0.34893551791222294, 0.3673720894124557, 0.4106350690530902, 0.36771265866313774, 0.38388433999827376]\n",
      "0.375707935007836\n"
     ]
    }
   ],
   "source": [
    "my_metadata = {\"algorithm_version\": crabnet.__version__}\n",
    "\n",
    "mb.add_metadata(my_metadata)\n",
    "\n",
    "mb.to_file(join(result_dir, \"expt_gap_benchmark.json.gz\"))\n",
    "\n",
    "print(default_maes)\n",
    "print(np.mean(default_maes))\n"
   ]
  }
 ],
 "metadata": {
  "kernelspec": {
   "display_name": "Python 3 (ipykernel)",
   "language": "python",
   "name": "python3"
  },
  "language_info": {
   "codemirror_mode": {
    "name": "ipython",
    "version": 3
   },
   "file_extension": ".py",
   "mimetype": "text/x-python",
   "name": "python",
   "nbconvert_exporter": "python",
   "pygments_lexer": "ipython3",
   "version": "3.9.7"
  }
 },
 "nbformat": 4,
 "nbformat_minor": 2
}
